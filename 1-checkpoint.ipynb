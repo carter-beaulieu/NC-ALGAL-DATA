{
 "cells": [
  {
   "cell_type": "code",
   "execution_count": null,
   "id": "4a24cc0d-0f7c-4fda-8059-c0f6cd2f01cb",
   "metadata": {},
   "outputs": [],
   "source": [
    "import os\n",
    "import pandas as pd\n",
    "import pyproj\n",
    "from pyproj import CRS, Transformer\n",
    "import rasterio\n",
    "from datetime import datetime\n",
    "import glob\n",
    "import numpy as np\n",
    "\n",
    "# Set specific directories\n",
    "os.chdir(r\"C:\\Users\\cbeau\\S3B_OL_1_EFR____20180514T235623_20180514T235910_20200125T210514_0166_003_130_1260_MR1_R_NT_002.SEN3\")\n",
    "archivePath = r\"C:\\Users\\cbeau\\S3B_OL_1_EFR____20180514T235623_20180514T235910_20200125T210514_0166_003_130_1260_MR1_R_NT_002.SEN3\\Tif\"\n",
    "txtPath = r\"C:\\Users\\cbeau\\Downloads\\UNCW\\Albermarle Sound Algae\\txt\"\n",
    "\n",
    "def projLatLon(nodes, prj_new):\n",
    "    if not nodes.empty:\n",
    "        llCRS = CRS.from_proj4(\"+proj=longlat +ellps=WGS84\")\n",
    "        transformer = Transformer.from_crs(prj_new, llCRS, always_xy=True)\n",
    "        temp_pts = nodes[['X', 'Y']].dropna()\n",
    "        indices = temp_pts.index\n",
    "        transformed_coords = transformer.transform(temp_pts['X'].values, temp_pts['Y'].values)\n",
    "        nodes.loc[indices, 'lon'] = transformed_coords[0]\n",
    "        nodes.loc[indices, 'lat'] = transformed_coords[1]\n",
    "    return nodes\n",
    "\n",
    "def projxy(nodes, prj_new):\n",
    "    if not nodes.empty:\n",
    "        llCRS = CRS.from_proj4(\"+proj=longlat +ellps=WGS84\")\n",
    "        transformer = Transformer.from_crs(llCRS, prj_new, always_xy=True)\n",
    "        temp_pts = nodes[['lon', 'lat']].dropna()\n",
    "        indices = temp_pts.index\n",
    "        transformed_coords = transformer.transform(temp_pts['lon'].values, temp_pts['lat'].values)\n",
    "        nodes.loc[indices, 'X'] = transformed_coords[0]\n",
    "        nodes.loc[indices, 'Y'] = transformed_coords[1]\n",
    "    return nodes\n",
    "\n",
    "# Find all images with specific pattern\n",
    "imageFiles = glob.glob(os.path.join(archivePath, \"*sentinel*.tif\"))\n",
    "\n",
    "# Process each image file\n",
    "for image_path in imageFiles:\n",
    "    filename = os.path.basename(image_path)\n",
    "    parts = filename.split('.')\n",
    "    datestring = f\"{parts[1]}{parts[3][:4]}00\"\n",
    "    date = datetime.strptime(datestring, \"%Y%j%H%M00\")\n",
    "    fntxt = os.path.join(txtPath, date.strftime(\"M%Y%j%H%M00.txt\"))\n",
    "\n",
    "    # Open the geotiff\n",
    "    with rasterio.open(image_path) as src:\n",
    "        prj_new = CRS.from_wkt(src.crs.to_wkt())\n",
    "        rc = src.read(1)  # Reading the first band\n",
    "        rows, cols = np.indices(rc.shape)\n",
    "        coords = [src.xy(row, col) for row, col in zip(rows.flat, cols.flat)]\n",
    "        X, Y = zip(*coords)\n",
    "        dfrc = pd.DataFrame({'X': X, 'Y': Y, 'ci': rc.flatten()})\n",
    "        dfrc = projLatLon(dfrc, prj_new)\n",
    "\n",
    "        # Correctly handling high chlorophyll areas modification to avoid warnings\n",
    "        mask = (dfrc['ci'] > 10) & (dfrc['ci'] <= 250)  # Adjust thresholds as needed\n",
    "        dfrc.loc[mask, 'CI'] = np.where(dfrc.loc[mask, 'ci'] == 0, 0, 10**(3/250 * dfrc.loc[mask, 'ci'] - 4.2))\n",
    "        dfrc.loc[mask, 'CellCount'] = dfrc.loc[mask, 'CI'] * 1e8\n",
    "\n",
    "        # Write data into text file\n",
    "        high_ci_points = dfrc[mask][['lon', 'lat', 'CI']].to_numpy()\n",
    "        np.savetxt(fntxt, high_ci_points, fmt='%12.6f %12.6f %10.6f', header='', footer='', comments='')"
   ]
  },
  {
   "cell_type": "code",
   "execution_count": null,
   "id": "68e7a362-09d3-4a58-96e9-8049509f005c",
   "metadata": {
    "editable": true,
    "slideshow": {
     "slide_type": ""
    },
    "tags": []
   },
   "outputs": [],
   "source": []
  },
  {
   "cell_type": "code",
   "execution_count": null,
   "id": "e0634c9e-cfa6-4d30-888f-d9915b5ad5d1",
   "metadata": {},
   "outputs": [],
   "source": []
  }
 ],
 "metadata": {
  "kernelspec": {
   "display_name": "Python 3 (ipykernel)",
   "language": "python",
   "name": "python3"
  },
  "language_info": {
   "codemirror_mode": {
    "name": "ipython",
    "version": 3
   },
   "file_extension": ".py",
   "mimetype": "text/x-python",
   "name": "python",
   "nbconvert_exporter": "python",
   "pygments_lexer": "ipython3",
   "version": "3.11.8"
  }
 },
 "nbformat": 4,
 "nbformat_minor": 5
}
