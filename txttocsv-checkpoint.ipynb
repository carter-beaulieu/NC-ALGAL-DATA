{
 "cells": [
  {
   "cell_type": "code",
   "execution_count": 3,
   "id": "77c57f3e-7bb0-4941-8556-9f9530c7e968",
   "metadata": {},
   "outputs": [
    {
     "name": "stdout",
     "output_type": "stream",
     "text": [
      "Skipping M2024111144700.txt: Empty file.\n",
      "Skipping M2024112152200.txt: Empty file.\n",
      "Conversion complete.\n"
     ]
    }
   ],
   "source": [
    "import os\n",
    "import pandas as pd\n",
    "import re  # Regular expressions\n",
    "\n",
    "def txt_to_csv(directory_path):\n",
    "    # Replace backslashes with forward slashes for compatibility\n",
    "    directory_path = directory_path.replace(\"\\\\\", \"/\")\n",
    "    \n",
    "    # Check and list all text files in the directory\n",
    "    for filename in os.listdir(directory_path):\n",
    "        if filename.endswith(\".txt\"):\n",
    "            file_path = os.path.join(directory_path, filename)\n",
    "            # Read the content of the text file\n",
    "            with open(file_path, 'r') as file:\n",
    "                data = file.readlines()\n",
    "\n",
    "            if data:  # Check if there is data in the file\n",
    "                # Use regex to handle multiple spaces as a delimiter\n",
    "                data = [re.split(r'\\s+', line.strip()) for line in data if line.strip()]\n",
    "                if len(data) > 0 and len(data[0]) == 3:  # Ensure correct column count\n",
    "                    df = pd.DataFrame(data, columns=['Longitude', 'Latitude', 'CI'])\n",
    "                    # Create CSV file path\n",
    "                    csv_file_path = os.path.join(directory_path, filename[:-4] + '.csv')\n",
    "                    # Write DataFrame to CSV\n",
    "                    df.to_csv(csv_file_path, index=False)\n",
    "                else:\n",
    "                    print(f\"Skipping {filename}: Data format issues (Expected 3 columns).\")\n",
    "            else:\n",
    "                print(f\"Skipping {filename}: Empty file.\")\n",
    "\n",
    "    print(\"Conversion complete.\")\n",
    "\n",
    "# Call the function with the path\n",
    "txt_to_csv(\"C:/Users/cbeau/Downloads/UNCW/Albermarle Sound Algae/txt\")"
   ]
  },
  {
   "cell_type": "code",
   "execution_count": null,
   "id": "b7ef7042-a733-497b-b5b4-4d92e14b8378",
   "metadata": {},
   "outputs": [],
   "source": []
  }
 ],
 "metadata": {
  "kernelspec": {
   "display_name": "Python 3 (ipykernel)",
   "language": "python",
   "name": "python3"
  },
  "language_info": {
   "codemirror_mode": {
    "name": "ipython",
    "version": 3
   },
   "file_extension": ".py",
   "mimetype": "text/x-python",
   "name": "python",
   "nbconvert_exporter": "python",
   "pygments_lexer": "ipython3",
   "version": "3.11.8"
  }
 },
 "nbformat": 4,
 "nbformat_minor": 5
}
